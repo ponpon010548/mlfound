{
 "cells": [
  {
   "cell_type": "code",
   "execution_count": 48,
   "metadata": {},
   "outputs": [],
   "source": [
    "import numpy as np\n",
    "import pandas as pd"
   ]
  },
  {
   "cell_type": "code",
   "execution_count": 66,
   "metadata": {},
   "outputs": [],
   "source": [
    "url = \"https://www.csie.ntu.edu.tw/~htlin/mooc/datasets/mlfound_math/hw1_15_train.dat\"\n",
    "df = pd.read_csv(url,sep = ' |\\t', header = None, engine = \"python\")"
   ]
  },
  {
   "cell_type": "code",
   "execution_count": 67,
   "metadata": {},
   "outputs": [],
   "source": [
    "def data_processing(df):\n",
    "    x = df.iloc[:,:-1] \n",
    "    x = x.values\n",
    "    x = x.tolist()\n",
    "    for i in range(len(x)):\n",
    "        x[i].insert(0,float(1))           # add 1 to every x[i] in the first position\n",
    "    x = np.array(x)\n",
    "    y = df.iloc[:,-1].values\n",
    "    return x, y"
   ]
  },
  {
   "cell_type": "code",
   "execution_count": 68,
   "metadata": {},
   "outputs": [],
   "source": [
    "def random_ordering(df):\n",
    "    data = df.values\n",
    "    data = np.random.permutation(data)          # sort the data randomly\n",
    "    data = pd.DataFrame(data = data)\n",
    "    return data"
   ]
  },
  {
   "cell_type": "code",
   "execution_count": 69,
   "metadata": {},
   "outputs": [],
   "source": [
    "def sign(x):\n",
    "    if x > 0:\n",
    "        return float(1)\n",
    "    else:\n",
    "        return float(-1)"
   ]
  },
  {
   "cell_type": "code",
   "execution_count": 70,
   "metadata": {},
   "outputs": [],
   "source": [
    "# Q15\n",
    "def PLA_inorder(data):\n",
    "    x, y = data_processing(data)\n",
    "    w = np.zeros(len(x[0]))\n",
    "    count = 0\n",
    "    while True:\n",
    "        iscomplete = True\n",
    "        for i in range(len(x)):\n",
    "            if sign(np.dot(x[i],w)) != y[i] :\n",
    "                w = w + y[i] * x[i]\n",
    "                iscomplete = False\n",
    "                count += 1\n",
    "        if iscomplete:\n",
    "            break\n",
    "    return count"
   ]
  },
  {
   "cell_type": "code",
   "execution_count": 71,
   "metadata": {},
   "outputs": [
    {
     "data": {
      "text/plain": [
       "45"
      ]
     },
     "execution_count": 71,
     "metadata": {},
     "output_type": "execute_result"
    }
   ],
   "source": [
    "PLA_inorder(df)"
   ]
  },
  {
   "cell_type": "code",
   "execution_count": 72,
   "metadata": {},
   "outputs": [],
   "source": [
    "# Q16\n",
    "def PLA_random_order(data):\n",
    "    x, y = data_processing(random_ordering(data))\n",
    "    w = np.zeros(len(x[0]))\n",
    "    count = 0\n",
    "    while True:\n",
    "        iscomplete = True\n",
    "        for i in range(len(x)):\n",
    "            if sign(np.dot(x[i],w)) != y[i] :\n",
    "                w = w + y[i] * x[i]\n",
    "                iscomplete = False\n",
    "                count += 1\n",
    "        if iscomplete:\n",
    "            break\n",
    "    return count"
   ]
  },
  {
   "cell_type": "code",
   "execution_count": 73,
   "metadata": {},
   "outputs": [
    {
     "name": "stdout",
     "output_type": "stream",
     "text": [
      "39.886\n"
     ]
    }
   ],
   "source": [
    "sum = 0\n",
    "for i in range(2000):\n",
    "    a = PLA_random_order(df)\n",
    "    sum = sum + a\n",
    "print(sum/2000)"
   ]
  },
  {
   "cell_type": "code",
   "execution_count": 74,
   "metadata": {},
   "outputs": [],
   "source": [
    "#Q17\n",
    "def PLA_random_order_with_η(data):                       # η = 0.5\n",
    "    x, y = data_processing(random_ordering(data))\n",
    "    w = np.zeros(len(x[0]))\n",
    "    count = 0\n",
    "    while True:\n",
    "        iscomplete = True\n",
    "        for i in range(len(x)):\n",
    "            if sign(np.dot(x[i],w)) != y[i] :\n",
    "                w = w + 0.5*y[i] * x[i]\n",
    "                iscomplete = False\n",
    "                count += 1\n",
    "        if iscomplete:\n",
    "            break\n",
    "    return count"
   ]
  },
  {
   "cell_type": "code",
   "execution_count": 75,
   "metadata": {},
   "outputs": [
    {
     "name": "stdout",
     "output_type": "stream",
     "text": [
      "40.1125\n"
     ]
    }
   ],
   "source": [
    "sum = 0\n",
    "for i in range(2000):\n",
    "    sum = sum + PLA_random_order_with_η(df)\n",
    "print(sum/2000)"
   ]
  },
  {
   "cell_type": "code",
   "execution_count": null,
   "metadata": {},
   "outputs": [],
   "source": []
  }
 ],
 "metadata": {
  "kernelspec": {
   "display_name": "Tensorflow",
   "language": "python",
   "name": "tensorflow"
  },
  "language_info": {
   "codemirror_mode": {
    "name": "ipython",
    "version": 3
   },
   "file_extension": ".py",
   "mimetype": "text/x-python",
   "name": "python",
   "nbconvert_exporter": "python",
   "pygments_lexer": "ipython3",
   "version": "3.6.3"
  }
 },
 "nbformat": 4,
 "nbformat_minor": 2
}
