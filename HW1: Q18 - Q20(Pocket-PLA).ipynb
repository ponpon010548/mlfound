{
 "cells": [
  {
   "cell_type": "code",
   "execution_count": 15,
   "metadata": {},
   "outputs": [],
   "source": [
    "import numpy as np\n",
    "import pandas as pd"
   ]
  },
  {
   "cell_type": "code",
   "execution_count": 62,
   "metadata": {},
   "outputs": [],
   "source": [
    "url_train = \"https://www.csie.ntu.edu.tw/~htlin/mooc/datasets/mlfound_math/hw1_18_train.dat\"\n",
    "train = pd.read_csv(url_train,sep = ' |\\t', header = None, engine = \"python\")"
   ]
  },
  {
   "cell_type": "code",
   "execution_count": 24,
   "metadata": {},
   "outputs": [],
   "source": [
    "url_test = \"https://www.csie.ntu.edu.tw/~htlin/mooc/datasets/mlfound_math/hw1_18_test.dat\"\n",
    "test = pd.read_csv(url_train,sep = ' |\\t', header = None, engine = \"python\")"
   ]
  },
  {
   "cell_type": "code",
   "execution_count": 96,
   "metadata": {},
   "outputs": [],
   "source": [
    "def data_processing(df):\n",
    "    x = df.iloc[:,:-1] \n",
    "    x = x.values\n",
    "    x = x.tolist()\n",
    "    for i in range(len(x)):\n",
    "        x[i].insert(0,float(1))           # add 1 to every x[i] in the first position\n",
    "    x = np.array(x)\n",
    "    y = df.iloc[:,-1].values\n",
    "    return x, y"
   ]
  },
  {
   "cell_type": "code",
   "execution_count": 9,
   "metadata": {},
   "outputs": [],
   "source": [
    "def random_ordering(df):\n",
    "    data = df.values\n",
    "    data = np.random.permutation(data)          # sort the data randomly\n",
    "    data = pd.DataFrame(data = data)\n",
    "    return data"
   ]
  },
  {
   "cell_type": "code",
   "execution_count": 10,
   "metadata": {},
   "outputs": [],
   "source": [
    "def sign(x):\n",
    "    if x > 0:\n",
    "        return float(1)\n",
    "    else:\n",
    "        return float(-1)"
   ]
  },
  {
   "cell_type": "code",
   "execution_count": 128,
   "metadata": {},
   "outputs": [],
   "source": [
    "def count_mistakes(x, y, w):\n",
    "    mistakes = 0\n",
    "    for i in range(len(x)):\n",
    "        if sign(np.dot(x[i],w)) != y[i] :\n",
    "            mistakes+= 1\n",
    "    return mistakes"
   ]
  },
  {
   "cell_type": "code",
   "execution_count": 177,
   "metadata": {},
   "outputs": [],
   "source": [
    "# Q18\n",
    "def PLA_pocket_random_order(data, update_times):\n",
    "    x, y = data_processing(random_ordering(data))\n",
    "    w = np.zeros(len(x[0]))\n",
    "    w_hat = w\n",
    "    a = count_mistakes(x, y, w_hat)\n",
    "    count = 0\n",
    "    while count < update_times:\n",
    "        for i in range(len(x)):\n",
    "            if sign(np.dot(x[i],w)) != y[i] :\n",
    "                w = w + y[i] * x[i]\n",
    "                count+=1\n",
    "                if count_mistakes(x,y, w) < a:\n",
    "                    w_hat = w\n",
    "                    a = count_mistakes(x, y, w_hat)\n",
    "            if count == 50:\n",
    "                break\n",
    "    return w_hat"
   ]
  },
  {
   "cell_type": "code",
   "execution_count": 178,
   "metadata": {},
   "outputs": [
    {
     "name": "stdout",
     "output_type": "stream",
     "text": [
      "0.12533\n"
     ]
    }
   ],
   "source": [
    "x_test, y_test = data_processing(test)\n",
    "sum_of_mistakes = 0\n",
    "for i in range(2000):\n",
    "    mistakes = count_mistakes(x_test, y_test, PLA_pocket_random_order(train, 50))\n",
    "    sum_of_mistakes = mistakes + sum_of_mistakes\n",
    "average_error_rate = sum_of_mistakes / (2000 * len(x_test))\n",
    "print(average_error_rate)"
   ]
  },
  {
   "cell_type": "code",
   "execution_count": 179,
   "metadata": {},
   "outputs": [],
   "source": [
    "# Q19\n",
    "def PLA_pocket_random_order(data, update_times):\n",
    "    x, y = data_processing(random_ordering(data))\n",
    "    w = np.zeros(len(x[0]))\n",
    "    w_hat = w\n",
    "    a = count_mistakes(x, y, w_hat)\n",
    "    count = 0\n",
    "    while count < update_times:\n",
    "        for i in range(len(x)):\n",
    "            if sign(np.dot(x[i],w)) != y[i] :\n",
    "                w = w + y[i] * x[i]\n",
    "                count+=1\n",
    "            if count == 50:\n",
    "                break\n",
    "    return w"
   ]
  },
  {
   "cell_type": "code",
   "execution_count": 180,
   "metadata": {},
   "outputs": [
    {
     "name": "stdout",
     "output_type": "stream",
     "text": [
      "0.363398\n"
     ]
    }
   ],
   "source": [
    "x_test, y_test = data_processing(test)\n",
    "sum_of_mistakes = 0\n",
    "for i in range(2000):\n",
    "    mistakes = count_mistakes(x_test, y_test, PLA_pocket_random_order(train, 50))\n",
    "    sum_of_mistakes = mistakes + sum_of_mistakes\n",
    "average_error_rate = sum_of_mistakes / (2000 * len(x_test))\n",
    "print(average_error_rate)"
   ]
  },
  {
   "cell_type": "code",
   "execution_count": 181,
   "metadata": {},
   "outputs": [],
   "source": [
    "# Q20\n",
    "def PLA_pocket_random_order(data, update_times):\n",
    "    x, y = data_processing(random_ordering(data))\n",
    "    w = np.zeros(len(x[0]))\n",
    "    w_hat = w\n",
    "    a = count_mistakes(x, y, w_hat)\n",
    "    count = 0\n",
    "    while count < update_times:\n",
    "        for i in range(len(x)):\n",
    "            if sign(np.dot(x[i],w)) != y[i] :\n",
    "                w = w + y[i] * x[i]\n",
    "                count+=1\n",
    "                if count_mistakes(x,y, w) < a:\n",
    "                    w_hat = w\n",
    "                    a = count_mistakes(x, y, w_hat)\n",
    "            if count == update_times:\n",
    "                break\n",
    "    return w_hat"
   ]
  },
  {
   "cell_type": "code",
   "execution_count": 182,
   "metadata": {},
   "outputs": [
    {
     "name": "stdout",
     "output_type": "stream",
     "text": [
      "0.10671\n"
     ]
    }
   ],
   "source": [
    "x_test, y_test = data_processing(test)\n",
    "sum_of_mistakes = 0\n",
    "for i in range(2000):\n",
    "    mistakes = count_mistakes(x_test, y_test, PLA_pocket_random_order(train, 100))\n",
    "    sum_of_mistakes = mistakes + sum_of_mistakes\n",
    "average_error_rate = sum_of_mistakes / (2000 * len(x_test))\n",
    "print(average_error_rate)"
   ]
  },
  {
   "cell_type": "code",
   "execution_count": null,
   "metadata": {},
   "outputs": [],
   "source": []
  }
 ],
 "metadata": {
  "kernelspec": {
   "display_name": "tensorflow",
   "language": "python",
   "name": "tensorflow"
  },
  "language_info": {
   "codemirror_mode": {
    "name": "ipython",
    "version": 3
   },
   "file_extension": ".py",
   "mimetype": "text/x-python",
   "name": "python",
   "nbconvert_exporter": "python",
   "pygments_lexer": "ipython3",
   "version": "3.6.9"
  }
 },
 "nbformat": 4,
 "nbformat_minor": 2
}
